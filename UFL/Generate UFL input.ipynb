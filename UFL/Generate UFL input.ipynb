{
 "cells": [
  {
   "cell_type": "code",
   "execution_count": 321,
   "metadata": {},
   "outputs": [],
   "source": [
    "import random as rd\n",
    "import copy as cp\n",
    "import itertools as it\n",
    "import numpy as np"
   ]
  },
  {
   "cell_type": "markdown",
   "metadata": {},
   "source": [
    "## Function to generate inputs to UFL problem"
   ]
  },
  {
   "cell_type": "code",
   "execution_count": 269,
   "metadata": {
    "scrolled": true
   },
   "outputs": [],
   "source": [
    "def generate_UFL(customers, facilities, oc=100, d=100):\n",
    "    \"\"\"\n",
    "    oc = opening cost\n",
    "    d = distance from facilite\n",
    "    \"\"\"\n",
    "    if customers <= 0 or facilities <= 0:\n",
    "        raise Exception(\"customers or facilities number invalid\")\n",
    "        \n",
    "    # generate customers\n",
    "    C = [[]]*customers\n",
    "    \n",
    "    #generate facilities\n",
    "    F = [[]]*facilities\n",
    "    \n",
    "    maxoc = 10*oc + 1\n",
    "    maxd = 2*d + 1\n",
    "    \n",
    "    for index, c in enumerate(C):\n",
    "        C[index] = [rd.choice(range(d, maxd)), []] # customer consumption\n",
    "        \n",
    "    for index, f in enumerate(F):\n",
    "        F[index] = [rd.choice(range(oc, maxoc)),[99999]*customers] # facilite_opening_cost\n",
    "\n",
    "#     print (F)\n",
    "    for index, f in enumerate(F):\n",
    "#         print (index)\n",
    "        number_customers = rd.choice(range(4,9))\n",
    "        index_customers = list(filter(lambda x: len(C[x][1]) < 4, list(range(0,customers))))\n",
    "        for c in range(0, number_customers):\n",
    "            c_to_f = rd.choice(index_customers) # customer chosen to facilite\n",
    "            i_c = index_customers.pop(index_customers.index(c_to_f)) # customer chosen\n",
    "            C[i_c][1] = C[i_c][1] + [index] # associating the facilite with the customer\n",
    "            \n",
    "            F[index][1][c_to_f] = cp.deepcopy(rd.choice(range(d, maxd))) # distance from customer to facilite\n",
    "            del c_to_f\n",
    "            del i_c\n",
    "            \n",
    "#     (lambda x: [print (i, \"\\n\") for i in x]) (F)\n",
    "    c_in_f = list(map(lambda x: len(list(filter(lambda x: x < maxd, x[1]))), F))\n",
    "#     print (c_in_f)\n",
    "    for index, c in enumerate(C):\n",
    "        while len(c[1]) < 3:\n",
    "            min_facilite = min(c_in_f)\n",
    "            index_f = c_in_f.index(min_facilite)\n",
    "            c[1].append(min_facilite)\n",
    "            c_in_f[index_f] += 1\n",
    "            \n",
    "            F[index_f][1][index] = cp.deepcopy(rd.choice(range(d, maxd))) # distance from customer to facilite\n",
    "            del index_f\n",
    "            \n",
    "        C[index] = c[:]\n",
    "        del c[:]\n",
    "#     print (C, \"\\n\\n\\n\")\n",
    "#     (lambda x: [print (i, \"\\n\") for i in x]) (F)\n",
    "            \n",
    "    file = open(\"input.txt\", \"a\")\n",
    "    file.write(\"%d %d\\n\" %(customers, facilities)) # number of customers and facilities \n",
    "    \n",
    "    # opening cost of facilities\n",
    "    cost_open_f = \"\"\n",
    "    for f in F[:-1]:\n",
    "        cost_open_f += \"%d \" % f[0]\n",
    "    cost_open_f += \"%d\\n\" % F[-1][0]\n",
    "    file.write(cost_open_f)\n",
    "    \n",
    "    # service demand from customers\n",
    "    service_demand = \"\"\n",
    "    for c in C[:-1]:\n",
    "        service_demand += \"%d \" % c[0]\n",
    "    service_demand += \"%d\\n\" % C[-1][0]\n",
    "    file.write(service_demand)\n",
    "    \n",
    "    # distance from facilite to customer\n",
    "    distance = \"\"\n",
    "    for f in F:\n",
    "        for c in f[1][:-1]:\n",
    "            distance += \"%d \" % c\n",
    "        distance += \"%d\\n\" % f[1][-1]\n",
    "    distance += \"\\n\"\n",
    "    file.write(distance)\n",
    "    \n",
    "    file.close()\n",
    "    return (C, F)\n",
    "# generate_UFL(4, 10)"
   ]
  },
  {
   "cell_type": "markdown",
   "metadata": {},
   "source": [
    "## UFL problem - Brute force"
   ]
  },
  {
   "cell_type": "code",
   "execution_count": 343,
   "metadata": {},
   "outputs": [],
   "source": [
    "def f_attend_C(facilities):\n",
    "#     print (facilities)\n",
    "    c = [-1]*len(facilities[0][1])\n",
    "    for f in facilities:\n",
    "        for index, v in enumerate(f[1]):\n",
    "            if v != 99999:\n",
    "                c[index] = 1\n",
    "    \n",
    "    if len(list(filter(lambda x: x==-1, c))) == 0:\n",
    "        return True\n",
    "    return False\n",
    "\n",
    "def get_from_index(F, l_index):\n",
    "    f_index = []\n",
    "    for index in l_index:\n",
    "        f_index.append(F[index])\n",
    "    return f_index\n",
    "\n",
    "def brute_force(C, F):\n",
    "    cost = float(\"inf\")\n",
    "    open_f = []\n",
    "    for i in range(1,len(F)+1):\n",
    "        for facilities in list(it.combinations(range(0,len(F)), i)):\n",
    "            if f_attend_C(get_from_index(F,facilities)):\n",
    "                opening_cost = 0\n",
    "                serving_cost = [float(\"inf\")]*len(F[facilities[0]][1])\n",
    "                for f in get_from_index(F,facilities):\n",
    "                    opening_cost += f[0]\n",
    "                    for index, f_c in enumerate(f[1]):\n",
    "                        serving_cost[index] = min(serving_cost[index], f_c)\n",
    "#                 print(opening_cost, sum(serving_cost), \"\\n\\n\")\n",
    "                if (opening_cost + sum(serving_cost) < cost):\n",
    "                    cost = opening_cost + sum(serving_cost)\n",
    "                    open_f = list(facilities)\n",
    "#                     print (open_f)\n",
    "                    \n",
    "    print (cost, open_f)\n",
    "        \n",
    "    "
   ]
  },
  {
   "cell_type": "markdown",
   "metadata": {},
   "source": [
    "## Read from file"
   ]
  },
  {
   "cell_type": "code",
   "execution_count": 351,
   "metadata": {},
   "outputs": [
    {
     "name": "stdout",
     "output_type": "stream",
     "text": [
      "2257 [2, 3]\n",
      "1837 [4, 7]\n"
     ]
    }
   ],
   "source": [
    "def read_file(file):\n",
    "    def read_line(fi):\n",
    "        line = fi.readline()\n",
    "        while (line and len(line.split()) == 0):\n",
    "                line = fi.readline()\n",
    "        if line:\n",
    "            return line\n",
    "        return False\n",
    "    \n",
    "    with open(file,'r') as f:\n",
    "        line = read_line(f)\n",
    "        while (line):\n",
    "            customers, facilities = list(map(lambda x: int(x),line.split()))\n",
    "            C = [[]]*customers\n",
    "            F = [[]]*facilities\n",
    "#             print (F, C, \"tt\")\n",
    "            for index, cost in enumerate(list(map(lambda x: int(x),read_line(f).split()))):\n",
    "                F[index] = [cost,[99999]*customers] # facilite_opening_cost\n",
    "            \n",
    "#             print (F, \"\\n\")\n",
    "            for index, demand in enumerate(list(map(lambda x: int(x),read_line(f).split()))):\n",
    "                C[index] = demand # customer consumption\n",
    "                \n",
    "#             print (C, \"\\n\")\n",
    "            for i in range(0, facilities):\n",
    "                for index, c in enumerate(list(map(lambda x: int(x),read_line(f).split()))):\n",
    "#                     print (index, c, \" tt\")\n",
    "                    F[i][1][index] = c # distance to customer index\n",
    "            \n",
    "#             print (C, \"\\n\\n\", F)\n",
    "            brute_force(C,F)\n",
    "    \n",
    "            line = read_line(f)\n",
    "        \n",
    "read_file(\"input.txt\")"
   ]
  },
  {
   "cell_type": "code",
   "execution_count": 348,
   "metadata": {},
   "outputs": [
    {
     "name": "stdout",
     "output_type": "stream",
     "text": [
      "2257 [2, 3]\n"
     ]
    }
   ],
   "source": [
    "ufl_input = generate_UFL(10,4)\n",
    "# print (ufl_input)\n",
    "brute_force(ufl_input[0], ufl_input[1])"
   ]
  },
  {
   "cell_type": "code",
   "execution_count": 214,
   "metadata": {},
   "outputs": [
    {
     "name": "stdout",
     "output_type": "stream",
     "text": [
      "1\n",
      "2\n",
      "3\n",
      "4\n"
     ]
    }
   ],
   "source": [
    "# print (float(\"inf\") < 99999999999999999999999999999999999999999999)\n",
    "cb = list(it.combinations([1,2,3,4], 4))\n",
    "for c in cb:\n",
    "    for b in c:\n",
    "        print (b)"
   ]
  },
  {
   "cell_type": "code",
   "execution_count": 223,
   "metadata": {},
   "outputs": [
    {
     "name": "stdout",
     "output_type": "stream",
     "text": [
      "(1, 2, 3)\n"
     ]
    }
   ],
   "source": [
    "def teste(*a):\n",
    "    print (a)\n",
    "teste(1,2,3)"
   ]
  },
  {
   "cell_type": "code",
   "execution_count": 318,
   "metadata": {},
   "outputs": [
    {
     "name": "stdout",
     "output_type": "stream",
     "text": [
      "[1, 2, 3, 5]\n"
     ]
    }
   ],
   "source": [
    "a = (1,2,3,5)\n",
    "print (slice(a))"
   ]
  },
  {
   "cell_type": "code",
   "execution_count": null,
   "metadata": {},
   "outputs": [],
   "source": []
  },
  {
   "cell_type": "code",
   "execution_count": null,
   "metadata": {},
   "outputs": [],
   "source": []
  }
 ],
 "metadata": {
  "kernelspec": {
   "display_name": "Python 3",
   "language": "python",
   "name": "python3"
  },
  "language_info": {
   "codemirror_mode": {
    "name": "ipython",
    "version": 3
   },
   "file_extension": ".py",
   "mimetype": "text/x-python",
   "name": "python",
   "nbconvert_exporter": "python",
   "pygments_lexer": "ipython3",
   "version": "3.6.2"
  }
 },
 "nbformat": 4,
 "nbformat_minor": 2
}
