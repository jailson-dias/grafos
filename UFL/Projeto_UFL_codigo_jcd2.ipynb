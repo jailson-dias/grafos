{
 "cells": [
  {
   "cell_type": "code",
   "execution_count": 1,
   "metadata": {},
   "outputs": [],
   "source": [
    "import random as rd\n",
    "import copy as cp\n",
    "import itertools as it"
   ]
  },
  {
   "cell_type": "markdown",
   "metadata": {},
   "source": [
    "## Function to generate inputs to UFL problem"
   ]
  },
  {
   "cell_type": "code",
   "execution_count": 28,
   "metadata": {
    "scrolled": true
   },
   "outputs": [
    {
     "data": {
      "text/plain": [
       "([[169, [0, 1, 2, 3]],\n",
       "  [125, [1, 2, 3]],\n",
       "  [175, [0, 1, 3]],\n",
       "  [126, [0, 2, 3]],\n",
       "  [133, [0, 1, 2, 3]],\n",
       "  [121, [0, 3, 0]],\n",
       "  [165, [1, 2, 1]],\n",
       "  [163, [0, 1, 2, 3]],\n",
       "  [163, [0, 1, 2]],\n",
       "  [148, [2, 3, 0]]],\n",
       " [[8738, [118, 99999, 121, 138, 119, 180, 99999, 102, 176, 101]],\n",
       "  [7686, [110, 193, 113, 99999, 107, 99999, 152, 105, 127, 99999]],\n",
       "  [2872, [180, 145, 99999, 124, 126, 99999, 184, 102, 166, 186]],\n",
       "  [7707, [107, 122, 169, 172, 100, 155, 99999, 131, 99999, 194]]])"
      ]
     },
     "execution_count": 28,
     "metadata": {},
     "output_type": "execute_result"
    }
   ],
   "source": [
    "def generate_UFL(customers, facilities, oc=100, d=100):\n",
    "    \"\"\"\n",
    "    oc = opening cost\n",
    "    d = distance from facilite\n",
    "    \"\"\"\n",
    "    if customers <= 0 or facilities <= 0:\n",
    "        raise Exception(\"customers or facilities number invalid\")\n",
    "        \n",
    "    # generate customers\n",
    "    C = [[]]*customers\n",
    "    \n",
    "    #generate facilities\n",
    "    F = [[]]*facilities\n",
    "    \n",
    "    maxoc = 100*oc + 1\n",
    "    maxd = 2*d + 1\n",
    "    \n",
    "    for index, c in enumerate(C):\n",
    "        C[index] = [rd.choice(range(d, maxd)), []] # customer consumption\n",
    "        \n",
    "    for index, f in enumerate(F):\n",
    "        F[index] = [rd.choice(range(oc, maxoc)),[99999]*customers] # facilite_opening_cost\n",
    "\n",
    "    for index, f in enumerate(F):\n",
    "        number_customers = rd.choice(range(4,9))\n",
    "        index_customers = list(map(lambda x: x if len(C[x][1]) < 4 else -1, list(range(0,customers))))\n",
    "        for c in range(0, number_customers):\n",
    "            c_to_f = rd.choice(index_customers) # customer chosen to facilite\n",
    "            while (c_to_f == -1):\n",
    "                c_to_f = rd.choice(index_customers) # customer chosen to facilite\n",
    "            i_c = index_customers[index_customers.index(c_to_f)] # customer chosen\n",
    "            index_customers[index_customers.index(c_to_f)] = -1\n",
    "            C[i_c][1] = C[i_c][1] + [index] # associating the facilite with the customer\n",
    "            \n",
    "            F[index][1][c_to_f] = cp.deepcopy(rd.choice(range(d, maxd))) # distance from customer to facilite\n",
    "            del c_to_f\n",
    "            del i_c\n",
    "#         print (index_customers)\n",
    "#     print (C, \"\\n\")\n",
    "    c_in_f = list(map(lambda x: len(list(filter(lambda x: x < maxd, x[1]))), F)) # pegando quantos clientes f atende\n",
    "    \n",
    "    for index, c in enumerate(C):\n",
    "        while len(c[1]) < 3:\n",
    "            min_facilite = min(c_in_f) # pegando a facilite que menos atende clientes\n",
    "            index_f = c_in_f.index(min_facilite)\n",
    "            c[1].append(index_f) # colocando que a facilite atende a este cliente\n",
    "            c_in_f[index_f] += 1\n",
    "            \n",
    "            F[index_f][1][index] = cp.deepcopy(rd.choice(range(d, maxd))) # distance from customer to facilite\n",
    "            del index_f\n",
    "            \n",
    "        C[index] = c[:]\n",
    "        del c[:]\n",
    "#     print (C)\n",
    "    \"\"\"\n",
    "    file = open(\"input.txt\", \"a\")\n",
    "    file.write(\"%d %d\\n\" %(customers, facilities)) # number of customers and facilities \n",
    "    \n",
    "    # opening cost of facilities\n",
    "    cost_open_f = \"\"\n",
    "    for f in F[:-1]:\n",
    "        cost_open_f += \"%d \" % f[0]\n",
    "    cost_open_f += \"%d\\n\" % F[-1][0]\n",
    "    file.write(cost_open_f)\n",
    "    \n",
    "    # service demand from customers\n",
    "    service_demand = \"\"\n",
    "    for c in C[:-1]:\n",
    "        service_demand += \"%d \" % c[0]\n",
    "    service_demand += \"%d\\n\" % C[-1][0]\n",
    "    file.write(service_demand)\n",
    "    \n",
    "    # distance from facilite to customer\n",
    "    distance = \"\"\n",
    "    for f in F:\n",
    "        for c in f[1][:-1]:\n",
    "            distance += \"%d \" % c\n",
    "        distance += \"%d\\n\" % f[1][-1]\n",
    "    distance += \"\\n\"\n",
    "    file.write(distance)\n",
    "    \n",
    "    file.close()\n",
    "    \"\"\"\n",
    "    return (C, F)\n",
    "\n",
    "generate_UFL(10,4)"
   ]
  },
  {
   "cell_type": "code",
   "execution_count": 3,
   "metadata": {},
   "outputs": [
    {
     "name": "stdout",
     "output_type": "stream",
     "text": [
      "finish\n"
     ]
    }
   ],
   "source": [
    "def generate_input_file():\n",
    "    progress = 0\n",
    "    \n",
    "    # gerando os 100 inputs de 10 clientes e 4 facilities\n",
    "    for i in range(0,100):\n",
    "        print (\"\\r%.2f%%\" % (progress/4), end='')\n",
    "        progress += 1\n",
    "        generate_UFL(10,4)\n",
    "    \n",
    "    # gerando os 100 inputs de 12 clientes e 5 facilities\n",
    "    for i in range(0,100):\n",
    "        print (\"\\r%.2f%%\" % (progress/4), end='')\n",
    "        progress += 1\n",
    "        generate_UFL(12,5)\n",
    "      \n",
    "    # gerando os 100 inputs de 14 clientes e 6 facilities\n",
    "    for i in range(0,100):\n",
    "        print (\"\\r%.2f%%\" % (progress/4), end='')\n",
    "        progress += 1\n",
    "        generate_UFL(14,6)\n",
    "        \n",
    "    # gerando os 100 inputs de 16 clientes e 7 facilities\n",
    "    for i in range(0,100):\n",
    "        print (\"\\r%.2f%%\" % (progress/4), end='')\n",
    "        progress += 1\n",
    "        generate_UFL(16,7)\n",
    "        \n",
    "    print (\"\\rfinish\")\n",
    "    \n",
    "generate_input_file()"
   ]
  },
  {
   "cell_type": "markdown",
   "metadata": {},
   "source": [
    "## UFL problem - Brute force"
   ]
  },
  {
   "cell_type": "code",
   "execution_count": 4,
   "metadata": {},
   "outputs": [],
   "source": [
    "def f_attend_C(facilities): # verifica se o conjunto de facilities atende todos os clientes\n",
    "    c = [-1]*len(facilities[0][1])\n",
    "    for f in facilities:\n",
    "        for index, v in enumerate(f[1]):\n",
    "            if v != 99999:\n",
    "                c[index] = 1\n",
    "    \n",
    "    if len(list(filter(lambda x: x==-1, c))) == 0:\n",
    "        return True\n",
    "    return False\n",
    "\n",
    "def get_from_index(F, l_index): # pega a lista de facilities pelo lista de index delas\n",
    "    f_index = []\n",
    "    for index in l_index:\n",
    "        f_index.append(F[index])\n",
    "    return f_index\n",
    "\n",
    "def brute_force(C, F): # resolve o problema das facilities por brute force\n",
    "    cost = float(\"inf\")\n",
    "    open_f = []\n",
    "    for i in range(1,len(F)+1):\n",
    "        for facilities in list(it.combinations(range(0,len(F)), i)): # pega todas as combinações posiveis de facilities\n",
    "            if f_attend_C(get_from_index(F,facilities)): # verifica se a combinação de facilite atende todos os clientes\n",
    "                opening_cost = 0\n",
    "                serving_cost = [[-1, float(\"inf\")]]*len(F[facilities[0]][1])\n",
    "                for ind_facilite, f in enumerate(get_from_index(F,facilities)): # caso atenda todos os clientes é calculado o custo de atende-los\n",
    "                    opening_cost += f[0]\n",
    "                    for index, f_c in enumerate(f[1]):\n",
    "                        if serving_cost[index][1] > (f_c*f[0]):\n",
    "                            serving_cost[index] = [facilities[ind_facilite], f_c*f[0]]\n",
    "                            \n",
    "                if (opening_cost + sum(list(map(lambda x: x[1], serving_cost))) < cost): # verifica se o custo de atender todos os clientes é melhor do que o que já foi calculado\n",
    "                    cost = opening_cost + sum(list(map(lambda x: x[1], serving_cost)))\n",
    "                    open_f_aux = [[]]*len(F)\n",
    "                    for index, sc in enumerate(serving_cost):\n",
    "                        open_f_aux[sc[0]] = open_f_aux[sc[0]] + [index]\n",
    "                    open_f = open_f_aux[:]\n",
    "                    del open_f_aux[:]\n",
    "                    \n",
    "    return (cost, open_f) # retorna o custo de atender todos os clientes e os clientes que são atendidos por cada facilite\n",
    "        \n",
    "    "
   ]
  },
  {
   "cell_type": "markdown",
   "metadata": {},
   "source": [
    "## Read from file"
   ]
  },
  {
   "cell_type": "code",
   "execution_count": 5,
   "metadata": {},
   "outputs": [
    {
     "name": "stdout",
     "output_type": "stream",
     "text": [
      "finish\n"
     ]
    }
   ],
   "source": [
    "def soluction_from_file(read, write): # utilizado para ler o input de um arquivo\n",
    "    def read_line(fi): # utilizado para pular quebras de linha e espaços\n",
    "        line = fi.readline()\n",
    "        while (line and len(line.split()) == 0):\n",
    "                line = fi.readline()\n",
    "        if line:\n",
    "            return line\n",
    "        return False\n",
    "    \n",
    "    progress = 0\n",
    "    w = open(write, 'w')\n",
    "    with open(read,'r') as f:\n",
    "        line = read_line(f)\n",
    "        while (line): # ler um input, dados das facilities e dos clientes\n",
    "            print (\"\\r%.2f%%\" % (progress/4), end='')\n",
    "            progress += 1\n",
    "            customers, facilities = list(map(lambda x: int(x),line.split()))\n",
    "            C = [[]]*customers\n",
    "            F = [[]]*facilities\n",
    "            \n",
    "            for index, cost in enumerate(list(map(lambda x: int(x),read_line(f).split()))):\n",
    "                F[index] = [cost,[99999]*customers] # facilite_opening_cost\n",
    "            \n",
    "            for index, demand in enumerate(list(map(lambda x: int(x),read_line(f).split()))):\n",
    "                C[index] = demand # customer consumption\n",
    "                \n",
    "            for i in range(0, facilities):\n",
    "                for index, c in enumerate(list(map(lambda x: int(x),read_line(f).split()))):\n",
    "                    F[i][1][index] = c # distance to customer index\n",
    "            \n",
    "            cost, open_f = brute_force(C,F) # calcula o custo do problema da facilite por brute force\n",
    "            w.write(\"INSTÂNCIA %d – ÓTIMO: Custo %d\\n\" % (progress, cost))\n",
    "            \n",
    "            f_open = \"\"\n",
    "            for index_f, facilite in enumerate(open_f):\n",
    "                if len(facilite) > 0:\n",
    "                    f_open += \"%d \" % (index_f + 1)\n",
    "            f_open = f_open[:-1]\n",
    "            \n",
    "            w.write(\"Facilities abertas: %s\\n\" % f_open)\n",
    "        \n",
    "            for index_f, facilite in enumerate(open_f):\n",
    "                if len(facilite) > 0:\n",
    "                    clients = \"\"\n",
    "                    for cli in facilite:\n",
    "                        clients += \"%d \" % (cli + 1)\n",
    "                    clients = clients[:-1]\n",
    "                    w.write(\"Facility %d atende clientes: %s\\n\" % (index_f + 1, clients))\n",
    "            w.write(\"\\n\")\n",
    "            line = read_line(f)\n",
    "    print (\"\\rfinish\")\n",
    "        \n",
    "soluction_from_file(\"input.txt\", \"output.txt\")"
   ]
  },
  {
   "cell_type": "markdown",
   "metadata": {},
   "source": [
    "### Algoritmo Slide"
   ]
  },
  {
   "cell_type": "code",
   "execution_count": 49,
   "metadata": {},
   "outputs": [
    {
     "name": "stdout",
     "output_type": "stream",
     "text": [
      "\n",
      " {'clients': [2, 0, 1, 4, 6, 7, 8, 11, 3, 5, 9, 10], 'facilities': [2, 4, 0]}\n",
      "2 4290\n",
      "4 516\n"
     ]
    },
    {
     "data": {
      "text/plain": [
       "(516, [[4, [2, 0, 1, 4, 6, 7, 8, 11, 3, 5, 9, 10]]])"
      ]
     },
     "execution_count": 49,
     "metadata": {},
     "output_type": "execute_result"
    }
   ],
   "source": [
    "# def f_attend_C(facilities): # verifica se o conjunto de facilities atende todos os clientes\n",
    "#     c = [-1]*len(facilities[0][1])\n",
    "#     for f in facilities:\n",
    "#         for index, v in enumerate(f[1]):\n",
    "#             if v != 99999:\n",
    "#                 c[index] = 1\n",
    "    \n",
    "#     if len(list(filter(lambda x: x==-1, c))) == 0:\n",
    "#         return True\n",
    "#     return False\n",
    "\n",
    "# def get_from_index(F, l_index): # pega a lista de facilities pelo lista de index delas\n",
    "#     f_index = []\n",
    "#     for index in l_index:\n",
    "#         f_index.append(F[index])\n",
    "#     return f_index\n",
    "\n",
    "def slide_soluction(C, F): # resolve o problema das facilities por brute force\n",
    "#     print (C, \"\\n\")\n",
    "#     print (F)\n",
    "    open_f = []\n",
    "    list_clients = []\n",
    "    for index, c in enumerate(C):\n",
    "        for fi in c[1]:\n",
    "            list_clients = list_clients + [[index, fi, c[0]*F[fi][0]]]\n",
    "#     print (\"\\n\", list_clients)\n",
    "    def ss(x):\n",
    "        return x[2]\n",
    "    list_clients.sort(key=ss)\n",
    "#     sorted(list_clients, key=ss)\n",
    "    cluster = {'clients': [list_clients[0][0]], 'facilities': C[list_clients[0][0]][1]}\n",
    "    \n",
    "    for fi in cluster['facilities']:\n",
    "        for index, ci in enumerate(F[fi][1]):\n",
    "            if (ci != 99999 and index not in cluster['clients']):\n",
    "                cluster['clients'] = cluster['clients'] + [index]\n",
    "    print (\"\\n\", cluster)\n",
    "    opn = cluster['facilities'][0]\n",
    "    cost = F[cluster['facilities'][0]][0]\n",
    "    print (opn, cost)\n",
    "    for fi in cluster['facilities'][1:]:\n",
    "        if F[fi][0] < cost:\n",
    "            opn = fi\n",
    "            cost = F[fi][0]\n",
    "    print (opn, cost)\n",
    "    open_f.append([opn, cluster['clients']])\n",
    "    return (cost, open_f) # retorna o custo de atender todos os clientes e os clientes que são atendidos por cada facilite\n",
    "        \n",
    "p = generate_UFL(12,5)\n",
    "slide_soluction(p[0],p[1])"
   ]
  },
  {
   "cell_type": "code",
   "execution_count": 48,
   "metadata": {},
   "outputs": [
    {
     "ename": "ModuleNotFoundError",
     "evalue": "No module named 'scipy'",
     "output_type": "error",
     "traceback": [
      "\u001b[0;31m---------------------------------------------------------------------------\u001b[0m",
      "\u001b[0;31mModuleNotFoundError\u001b[0m                       Traceback (most recent call last)",
      "\u001b[0;32m<ipython-input-48-55ee13c3bd4a>\u001b[0m in \u001b[0;36m<module>\u001b[0;34m()\u001b[0m\n\u001b[0;32m----> 1\u001b[0;31m \u001b[0;32mfrom\u001b[0m \u001b[0mscipy\u001b[0m\u001b[0;34m.\u001b[0m\u001b[0moptimize\u001b[0m \u001b[0;32mimport\u001b[0m \u001b[0mlinprog\u001b[0m\u001b[0;34m\u001b[0m\u001b[0m\n\u001b[0m\u001b[1;32m      2\u001b[0m \u001b[0;34m\u001b[0m\u001b[0m\n\u001b[1;32m      3\u001b[0m \u001b[0mc\u001b[0m \u001b[0;34m=\u001b[0m \u001b[0;34m[\u001b[0m\u001b[0;36m1\u001b[0m\u001b[0;34m,\u001b[0m \u001b[0;36m1\u001b[0m\u001b[0;34m,\u001b[0m \u001b[0;36m1\u001b[0m\u001b[0;34m]\u001b[0m\u001b[0;34m\u001b[0m\u001b[0m\n\u001b[1;32m      4\u001b[0m \u001b[0mA\u001b[0m \u001b[0;34m=\u001b[0m \u001b[0;34m[\u001b[0m\u001b[0;34m[\u001b[0m\u001b[0;36m1\u001b[0m\u001b[0;34m,\u001b[0m \u001b[0;36m1\u001b[0m\u001b[0;34m,\u001b[0m \u001b[0;36m0\u001b[0m\u001b[0;34m]\u001b[0m\u001b[0;34m,\u001b[0m \u001b[0;34m[\u001b[0m\u001b[0;34m-\u001b[0m\u001b[0;36m1\u001b[0m\u001b[0;34m,\u001b[0m \u001b[0;34m-\u001b[0m\u001b[0;36m1\u001b[0m\u001b[0;34m,\u001b[0m\u001b[0;36m0\u001b[0m\u001b[0;34m]\u001b[0m\u001b[0;34m,\u001b[0m\u001b[0;34m[\u001b[0m\u001b[0;36m1\u001b[0m\u001b[0;34m,\u001b[0m\u001b[0;36m0\u001b[0m\u001b[0;34m,\u001b[0m\u001b[0;34m-\u001b[0m\u001b[0;36m1\u001b[0m\u001b[0;34m]\u001b[0m\u001b[0;34m,\u001b[0m\u001b[0;34m[\u001b[0m\u001b[0;36m0\u001b[0m\u001b[0;34m,\u001b[0m\u001b[0;36m1\u001b[0m\u001b[0;34m,\u001b[0m\u001b[0;34m-\u001b[0m\u001b[0;36m1\u001b[0m\u001b[0;34m]\u001b[0m\u001b[0;34m]\u001b[0m\u001b[0;34m\u001b[0m\u001b[0m\n\u001b[1;32m      5\u001b[0m \u001b[0;31m# print (A)\u001b[0m\u001b[0;34m\u001b[0m\u001b[0;34m\u001b[0m\u001b[0m\n",
      "\u001b[0;31mModuleNotFoundError\u001b[0m: No module named 'scipy'"
     ]
    }
   ],
   "source": [
    "from scipy.optimize import linprog\n",
    "\n",
    "c = [1, 1, 1]\n",
    "A = [[1, 1, 0], [-1, -1,0],[1,0,-1],[0,1,-1]]\n",
    "# print (A)\n",
    "b = [1, -1, 0,0]\n",
    "# x0_bounds = (None, None)\n",
    "x1_bounds = (0, None)\n",
    "res = linprog(c, A_ub=A, b_ub=b, bounds=(x1_bounds, x1_bounds, x1_bounds), options={\"disp\": True})\n",
    "print (res)\n",
    "\"\"\"\n",
    "-2x1 C 8x2 C 0x3 C 10x4  50 \n",
    "5x1 C 2x2 C 0x3 C 0x4  100\n",
    "3x1  5x2 C 10x3  2x4  25\n",
    "x1; x2; x3; x4  0\n",
    "\"\"\""
   ]
  },
  {
   "cell_type": "code",
   "execution_count": null,
   "metadata": {},
   "outputs": [],
   "source": []
  }
 ],
 "metadata": {
  "kernelspec": {
   "display_name": "Python 3",
   "language": "python",
   "name": "python3"
  },
  "language_info": {
   "codemirror_mode": {
    "name": "ipython",
    "version": 3
   },
   "file_extension": ".py",
   "mimetype": "text/x-python",
   "name": "python",
   "nbconvert_exporter": "python",
   "pygments_lexer": "ipython3",
   "version": "3.6.3"
  }
 },
 "nbformat": 4,
 "nbformat_minor": 2
}
